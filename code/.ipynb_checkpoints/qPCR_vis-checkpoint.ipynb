{
 "cells": [
  {
   "cell_type": "code",
   "execution_count": 1,
   "id": "a38ea808",
   "metadata": {},
   "outputs": [],
   "source": [
    "#importing required modules\n",
    "import numpy as np\n",
    "import pandas as pd\n",
    "import seaborn as sns\n",
    "import matplotlib.pyplot as plt"
   ]
  },
  {
   "cell_type": "code",
   "execution_count": 2,
   "id": "42027e91",
   "metadata": {},
   "outputs": [
    {
     "data": {
      "text/html": [
       "<div>\n",
       "<style scoped>\n",
       "    .dataframe tbody tr th:only-of-type {\n",
       "        vertical-align: middle;\n",
       "    }\n",
       "\n",
       "    .dataframe tbody tr th {\n",
       "        vertical-align: top;\n",
       "    }\n",
       "\n",
       "    .dataframe thead th {\n",
       "        text-align: right;\n",
       "    }\n",
       "</style>\n",
       "<table border=\"1\" class=\"dataframe\">\n",
       "  <thead>\n",
       "    <tr style=\"text-align: right;\">\n",
       "      <th></th>\n",
       "      <th>id</th>\n",
       "      <th>gene</th>\n",
       "      <th>value</th>\n",
       "      <th>condition</th>\n",
       "    </tr>\n",
       "  </thead>\n",
       "  <tbody>\n",
       "    <tr>\n",
       "      <th>0</th>\n",
       "      <td>1</td>\n",
       "      <td>CAPN8</td>\n",
       "      <td>0.202448</td>\n",
       "      <td>control</td>\n",
       "    </tr>\n",
       "    <tr>\n",
       "      <th>1</th>\n",
       "      <td>2</td>\n",
       "      <td>CAPN8</td>\n",
       "      <td>0.653737</td>\n",
       "      <td>lda</td>\n",
       "    </tr>\n",
       "    <tr>\n",
       "      <th>2</th>\n",
       "      <td>4</td>\n",
       "      <td>CAPN8</td>\n",
       "      <td>0.983328</td>\n",
       "      <td>lda</td>\n",
       "    </tr>\n",
       "  </tbody>\n",
       "</table>\n",
       "</div>"
      ],
      "text/plain": [
       "   id   gene     value condition\n",
       "0   1  CAPN8  0.202448   control\n",
       "1   2  CAPN8  0.653737       lda\n",
       "2   4  CAPN8  0.983328       lda"
      ]
     },
     "execution_count": 2,
     "metadata": {},
     "output_type": "execute_result"
    }
   ],
   "source": [
    "#reading in data and clean it\n",
    "df=pd.read_excel('../data/Ábrához-Bálintnak.xlsx')\n",
    "df.columns=['id','gene','value','condition']\n",
    "df['gene']=df['gene'].apply(lambda cell: cell.split('_')[0].upper())\n",
    "df['condition']=df['condition'].apply(lambda cell: 'control' if cell=='Kontrol' else 'lda')\n",
    "df.head(n=3)"
   ]
  },
  {
   "cell_type": "code",
   "execution_count": 3,
   "id": "f5b5c881",
   "metadata": {},
   "outputs": [],
   "source": [
    "colors=['#e6194b', '#3cb44b', '#ffe119', '#4363d8', '#f58231', '#911eb4', '#46f0f0', '#f032e6',\n",
    "                  '#bcf60c','#fabebe', '#008080', '#e6beff', '#9a6324', '#fffac8', '#800000', '#aaffc3',\n",
    "                  '#808000', '#ffd8b1','#000075', '#00FF7F','#000000']"
   ]
  },
  {
   "cell_type": "code",
   "execution_count": 4,
   "id": "22bcc885",
   "metadata": {},
   "outputs": [
    {
     "data": {
      "text/plain": [
       "ITGA5    1.610718e-02\n",
       "ITGA7    2.242382e-02\n",
       "CAPN8    5.363747e-02\n",
       "MLY9     3.221628e-01\n",
       "UGTA1    1.139606e+00\n",
       "GKN2     1.035473e+03\n",
       "GSMDC    7.036874e+03\n",
       "SMPD     7.274255e+03\n",
       "CCDC     3.163129e+06\n",
       "dtype: float64"
      ]
     },
     "execution_count": 4,
     "metadata": {},
     "output_type": "execute_result"
    }
   ],
   "source": [
    "control_fil=df['condition']=='control'\n",
    "filtered_df=df[control_fil]\n",
    "lengths=pd.Series(filtered_df['gene'].unique()).apply(\n",
    "    lambda gene_name:np.mean(filtered_df.loc[filtered_df['gene']==gene_name]['value'])\n",
    ")\n",
    "lengths.index=pd.Series(filtered_df['gene'].unique())\n",
    "lengths=lengths.sort_values(ascending=True)\n",
    "lengths"
   ]
  },
  {
   "cell_type": "code",
   "execution_count": 5,
   "id": "654b58ee",
   "metadata": {},
   "outputs": [],
   "source": [
    "#function for plotting\n",
    "def barh_plotter(gene_name,df):\n",
    "    global gene_indexer\n",
    "    global gene_names\n",
    "    #define filter to differentiate between lda affected and control individuals\n",
    "    control_fil=df['condition']=='control'\n",
    "    \n",
    "    control_hits=df[control_fil]\n",
    "    lda_hits=df[~control_fil]\n",
    "    \n",
    "    control_subdf=control_hits.loc[control_hits['gene']==gene_name]\n",
    "    lda_subdf=lda_hits.loc[lda_hits['gene']==gene_name]\n",
    "    \n",
    "    #control individuals\n",
    "    axs[0].errorbar(\n",
    "        np.mean(control_subdf['value']),\n",
    "        gene_indexer,\n",
    "        xerr=np.std(np.log(control_subdf['value'])),\n",
    "        color='k',\n",
    "        elinewidth=0.8,\n",
    "        xlolims=np.mean(control_subdf['value'])\n",
    "    )\n",
    "    \n",
    "    axs[0].barh(\n",
    "        gene_indexer,\n",
    "        np.mean(control_subdf['value']),\n",
    "        alpha=.5,\n",
    "        color=colors[gene_indexer]\n",
    "    )\n",
    "    axs[0].set_axisbelow(True)\n",
    "    \n",
    "    #LDA affected individuals\n",
    "    axs[1].errorbar(\n",
    "        np.mean(lda_subdf['value']),\n",
    "        gene_indexer,\n",
    "        xerr=np.std(np.log(lda_subdf['value'])),\n",
    "        color='k',\n",
    "        elinewidth=0.8,\n",
    "        xlolims=np.mean(lda_subdf['value'])\n",
    "    )\n",
    "    \n",
    "    axs[1].barh(\n",
    "        gene_indexer,\n",
    "        np.mean(lda_subdf['value']),\n",
    "        alpha=.5,\n",
    "        color=colors[gene_indexer]\n",
    "    )\n",
    "    \n",
    "    if gene_name not in gene_names:\n",
    "        gene_names.append(gene_name)\n",
    "    gene_indexer+=1"
   ]
  },
  {
   "cell_type": "code",
   "execution_count": 6,
   "id": "46b9f9e5",
   "metadata": {
    "scrolled": false
   },
   "outputs": [
    {
     "name": "stderr",
     "output_type": "stream",
     "text": [
      "/opt/anaconda3/lib/python3.9/site-packages/numpy/core/_asarray.py:102: UserWarning: Warning: converting a masked element to nan.\n",
      "  return array(a, dtype, copy=False, order=order)\n"
     ]
    },
    {
     "data": {
      "image/png": "[encoded data removed]",
      "text/plain": [
       "<Figure size 720x360 with 2 Axes>"
      ]
     },
     "metadata": {},
     "output_type": "display_data"
    }
   ],
   "source": [
    "plt.style.use('fivethirtyeight')\n",
    "fig, axs = plt.subplots(figsize=(10,5), ncols=2, sharey=True,sharex=False)\n",
    "\n",
    "axs[0].invert_xaxis()\n",
    "axs[0].set_xscale('log')\n",
    "axs[1].set_xscale('log')\n",
    "axs[0].set_xlim(100000000,0.000001)\n",
    "axs[1].set_xlim(0.000001,100000000)\n",
    "\n",
    "gene_indexer=0\n",
    "gene_names=[]\n",
    "pd.Series(lengths.index.values).apply(barh_plotter,args=(df,))\n",
    "axs[0].set_yticks(np.arange(0,len(gene_names)))\n",
    "axs[0].set_yticklabels(gene_names)\n",
    "axs[0].set_title('Control')\n",
    "axs[1].set_title('LDA')\n",
    "axs[0].set_ylabel('Genes')\n",
    "axs[0].set_xlabel('ΔΔ CT')\n",
    "axs[0].xaxis.set_label_coords(1, -0.15)\n",
    "plt.tight_layout()\n",
    "plt.subplots_adjust(hspace=0,wspace=0)\n",
    "plt.savefig('../results/qPCR_results.tiff',dpi=1000)"
   ]
  },
  {
   "cell_type": "code",
   "execution_count": null,
   "id": "620c012f",
   "metadata": {},
   "outputs": [],
   "source": []
  }
 ],
 "metadata": {
  "kernelspec": {
   "display_name": "Python 3 (ipykernel)",
   "language": "python",
   "name": "python3"
  },
  "language_info": {
   "codemirror_mode": {
    "name": "ipython",
    "version": 3
   },
   "file_extension": ".py",
   "mimetype": "text/x-python",
   "name": "python",
   "nbconvert_exporter": "python",
   "pygments_lexer": "ipython3",
   "version": "3.9.7"
  }
 },
 "nbformat": 4,
 "nbformat_minor": 5
}
